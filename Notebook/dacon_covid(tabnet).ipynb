{
  "nbformat": 4,
  "nbformat_minor": 0,
  "metadata": {
    "colab": {
      "name": "dacon_covid(tabnet)",
      "provenance": []
    },
    "kernelspec": {
      "name": "python3",
      "display_name": "Python 3"
    },
    "language_info": {
      "name": "python"
    }
  },
  "cells": [
    {
      "cell_type": "code",
      "execution_count": null,
      "metadata": {
        "id": "zZlh_8zIQ-dF"
      },
      "outputs": [],
      "source": [
        "!pip install pytorch-tabnet"
      ]
    },
    {
      "cell_type": "code",
      "source": [
        "import os\n",
        "import numpy as np\n",
        "import pandas as pd\n",
        "import matplotlib.pyplot as plt\n",
        "import random\n",
        "import librosa\n",
        "\n",
        "from tqdm.auto import tqdm\n",
        "from sklearn.preprocessing import OneHotEncoder\n",
        "\n",
        "import torch\n",
        "import torch.nn as nn\n",
        "from pytorch_tabnet.tab_model import TabNetClassifier\n",
        "\n",
        "import warnings\n",
        "warnings.filterwarnings(action='ignore') "
      ],
      "metadata": {
        "id": "nFncBC6URETY"
      },
      "execution_count": null,
      "outputs": []
    },
    {
      "cell_type": "code",
      "source": [
        "CFG = {\n",
        "    'SR':16000,\n",
        "    'N_MFCC':39,\n",
        "    'SEED':1209\n",
        "}"
      ],
      "metadata": {
        "id": "VrYNASnKReZ2"
      },
      "execution_count": null,
      "outputs": []
    },
    {
      "cell_type": "code",
      "source": [
        "def seed_everything(seed):\n",
        "    random.seed(seed)\n",
        "    os.environ['PYTHONHASHSEED'] = str(seed)\n",
        "    np.random.seed(seed)\n",
        "\n",
        "seed_everything(CFG['SEED']) # Seed 고정"
      ],
      "metadata": {
        "id": "3GeNAeuwRhJu"
      },
      "execution_count": null,
      "outputs": []
    },
    {
      "cell_type": "code",
      "source": [
        "# wav 파일의 MFCC Feature와 상태정보를 합친 학습데이터를 불러옵니다.\n",
        "train_df = pd.read_csv('/content/drive/MyDrive/dacon_covid/train_mfcc_data(16000,39).csv')"
      ],
      "metadata": {
        "id": "PufI_XbhRh-3"
      },
      "execution_count": null,
      "outputs": []
    },
    {
      "cell_type": "code",
      "source": [
        "def onehot_encoding(ohe, x):\n",
        "    # 학습데이터로 부터 fit된 one-hot encoder (ohe)를 받아 transform 시켜주는 함수\n",
        "    encoded = ohe.transform(x['gender'].values.reshape(-1,1))\n",
        "    encoded_df = pd.DataFrame(encoded, columns=ohe.categories_[0])\n",
        "    x = pd.concat([x.drop(columns=['gender']), encoded_df], axis=1)\n",
        "    return x"
      ],
      "metadata": {
        "id": "rocdRkvIRkc1"
      },
      "execution_count": null,
      "outputs": []
    },
    {
      "cell_type": "code",
      "source": [
        "# 'gender' column의 경우 추가 전처리가 필요 -> OneHotEncoder 적용\n",
        "ohe = OneHotEncoder(sparse=False)\n",
        "ohe.fit(train_df['gender'].values.reshape(-1,1))\n",
        "train_df = onehot_encoding(ohe, train_df)\n",
        "\n",
        "train_df = train_df.drop(columns=['id', 'mfcc_1'])"
      ],
      "metadata": {
        "id": "x1q7k8pCSCJb"
      },
      "execution_count": null,
      "outputs": []
    },
    {
      "cell_type": "markdown",
      "source": [
        "# Tabnet"
      ],
      "metadata": {
        "id": "Vg_VONPmKriN"
      }
    },
    {
      "cell_type": "code",
      "source": [
        "cat_col = ['respiratory_condition', 'fever_or_muscle_pain', 'female', 'male', 'other'] \n",
        "features = [col for col in train_df.columns if col not in ['covid19']] \n",
        "cat_idxs = [i for i, f in enumerate(features) if f in cat_col]\n",
        "cat_dims = [2, 2, 2, 2, 2]"
      ],
      "metadata": {
        "id": "5ytB7A59SIhB"
      },
      "execution_count": null,
      "outputs": []
    },
    {
      "cell_type": "code",
      "source": [
        "x_train = train_df[features].values\n",
        "y_train = train_df['covid19'].values"
      ],
      "metadata": {
        "id": "-h8cUsh1Svkt"
      },
      "execution_count": null,
      "outputs": []
    },
    {
      "cell_type": "code",
      "source": [
        "clf = TabNetClassifier(cat_idxs=cat_idxs, cat_dims=cat_dims,\n",
        "                       cat_emb_dim=3,\n",
        "                       optimizer_fn=torch.optim.Adam,\n",
        "                       optimizer_params=dict(lr=2e-2),\n",
        "                       momentum = 0.2,\n",
        "                       scheduler_params={\"step_size\":20, \"gamma\":0.9},\n",
        "                       scheduler_fn=torch.optim.lr_scheduler.StepLR,\n",
        "                       mask_type='sparsemax', seed=1209\n",
        "                      )"
      ],
      "metadata": {
        "colab": {
          "base_uri": "https://localhost:8080/"
        },
        "id": "By9yNrecUb77",
        "outputId": "c583ed90-e38e-463e-8fc9-1e48ab721b88"
      },
      "execution_count": null,
      "outputs": [
        {
          "output_type": "stream",
          "name": "stdout",
          "text": [
            "Device used : cpu\n"
          ]
        }
      ]
    },
    {
      "cell_type": "code",
      "source": [
        "max_epochs = 150\n",
        "\n",
        "clf.fit(\n",
        "    X_train=x_train, y_train=y_train,\n",
        "    eval_set=[(x_train, y_train)],\n",
        "    eval_name=['train'],\n",
        "    eval_metric=['auc'],\n",
        "    max_epochs=max_epochs , patience=10,\n",
        "    batch_size=512, virtual_batch_size=128,\n",
        "    drop_last = True\n",
        ")"
      ],
      "metadata": {
        "id": "5IQgL1tsV9De"
      },
      "execution_count": null,
      "outputs": []
    },
    {
      "cell_type": "code",
      "source": [
        "# 위의 학습데이터를 전처리한 과정과 동일하게 test data에도 적용\n",
        "test_x = pd.read_csv('/content/drive/MyDrive/dacon_covid/test_mfcc_data(16000,39).csv')\n",
        "test_x = test_x.drop(columns=['id', 'mfcc_1'])\n",
        "# Data Leakage에 유의하여 train data로만 학습된 ohe를 사용\n",
        "test_x = onehot_encoding(ohe, test_x)\n",
        "\n",
        "test_x.head()"
      ],
      "metadata": {
        "id": "XGyQHhlZW06N"
      },
      "execution_count": null,
      "outputs": []
    },
    {
      "cell_type": "code",
      "source": [
        "pred = clf.predict_proba(test_x.values)\n",
        "\n",
        "predicted_class = []\n",
        "for value in pred:\n",
        "    if value[1] > 0.1: # threshold ==> 0.1\n",
        "        predicted_class.append(1)\n",
        "    else:\n",
        "        predicted_class.append(0)"
      ],
      "metadata": {
        "id": "11qOtUEeZ9NB"
      },
      "execution_count": null,
      "outputs": []
    },
    {
      "cell_type": "code",
      "source": [
        "# save\n",
        "submission = pd.read_csv('/content/drive/MyDrive/dacon_covid/sample_submission.csv')\n",
        "submission['covid19'] = predicted_class\n",
        "submission.to_csv('/content/drive/MyDrive/dacon_covid/submit_tabnet.csv', index=False)"
      ],
      "metadata": {
        "id": "J6k4jfxeXfxs"
      },
      "execution_count": null,
      "outputs": []
    }
  ]
}