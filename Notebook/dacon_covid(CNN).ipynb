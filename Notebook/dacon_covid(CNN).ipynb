{
  "nbformat": 4,
  "nbformat_minor": 0,
  "metadata": {
    "colab": {
      "name": "dacon_covid(CNN)",
      "provenance": []
    },
    "kernelspec": {
      "name": "python3",
      "display_name": "Python 3"
    },
    "language_info": {
      "name": "python"
    }
  },
  "cells": [
    {
      "cell_type": "code",
      "execution_count": null,
      "metadata": {
        "id": "3t-fsFPRFEpb"
      },
      "outputs": [],
      "source": [
        "import random\n",
        "import pandas as pd\n",
        "import numpy as np\n",
        "import matplotlib.pyplot as plt\n",
        "import os\n",
        "import librosa\n",
        "import librosa.display\n",
        "\n",
        "from tqdm.auto import tqdm\n",
        "\n",
        "import keras\n",
        "from keras.layers import Conv2D, Dense, Flatten, MaxPooling2D\n",
        "from keras.layers import Dropout, BatchNormalization, Activation\n",
        "from keras.models import Sequential\n",
        "from keras import regularizers\n",
        "\n",
        "from sklearn.model_selection import train_test_split, StratifiedKFold\n",
        "\n",
        "import warnings\n",
        "warnings.filterwarnings(action='ignore') "
      ]
    },
    {
      "cell_type": "code",
      "source": [
        "CFG = {\n",
        "    'SR':16000,\n",
        "    'N_MFCC':39, # MFCC 벡터를 추출할 개수\n",
        "    'SEED':1209\n",
        "}"
      ],
      "metadata": {
        "id": "LNciUfWtHF7z"
      },
      "execution_count": null,
      "outputs": []
    },
    {
      "cell_type": "code",
      "source": [
        "def seed_everything(seed):\n",
        "    random.seed(seed)\n",
        "    os.environ['PYTHONHASHSEED'] = str(seed)\n",
        "    np.random.seed(seed)\n",
        "\n",
        "seed_everything(CFG['SEED']) # Seed 고정"
      ],
      "metadata": {
        "id": "G2ASja1CFerO"
      },
      "execution_count": null,
      "outputs": []
    },
    {
      "cell_type": "code",
      "source": [
        "train_x = np.load('/content/drive/MyDrive/dacon_covid/train_mfcc2d/train_x.npy')\n",
        "train_y = np.load('/content/drive/MyDrive/dacon_covid/train_mfcc2d/train_y.npy')\n",
        "augmented_train_x = np.load('/content/drive/MyDrive/dacon_covid/augmented_train_mfcc2d/augmented_train_x.npy')\n",
        "augmented_train_y = np.load('/content/drive/MyDrive/dacon_covid/augmented_train_mfcc2d/augmented_train_y.npy')\n",
        "\n",
        "test_x = np.load('/content/drive/MyDrive/dacon_covid/test_mfcc2d/test_x.npy')"
      ],
      "metadata": {
        "id": "nKyexFsiXXas"
      },
      "execution_count": null,
      "outputs": []
    },
    {
      "cell_type": "code",
      "source": [
        "librosa.display.specshow(train_x[7], sr=16000, x_axis='time')"
      ],
      "metadata": {
        "colab": {
          "base_uri": "https://localhost:8080/",
          "height": 297
        },
        "id": "t-RD5KC-c70v",
        "outputId": "283cdfa5-2e6f-4510-9df4-dad21724e6ba"
      },
      "execution_count": null,
      "outputs": [
        {
          "output_type": "execute_result",
          "data": {
            "text/plain": [
              "<matplotlib.collections.QuadMesh at 0x7f09995a7a50>"
            ]
          },
          "metadata": {},
          "execution_count": 17
        },
        {
          "output_type": "display_data",
          "data": {
            "text/plain": [
              "<Figure size 432x288 with 1 Axes>"
            ],
            "image/png": "[encoded data removed]"
          },
          "metadata": {
            "needs_background": "light"
          }
        }
      ]
    },
    {
      "cell_type": "code",
      "source": [
        "train_x = np.concatenate((train_x, augmented_train_x), axis=0)\n",
        "train_y = np.concatenate((train_y, augmented_train_y), axis=0)\n",
        "\n",
        "train_x = train_x.reshape(train_x.shape[0], -1, 39, 1)\n",
        "test_x = test_x.reshape(test_x.shape[0], -1, 39, 1)"
      ],
      "metadata": {
        "id": "pJZE0G17n8IJ"
      },
      "execution_count": null,
      "outputs": []
    },
    {
      "cell_type": "markdown",
      "source": [
        "# Modeling"
      ],
      "metadata": {
        "id": "o9o92CGxFb23"
      }
    },
    {
      "cell_type": "code",
      "source": [
        "# 하이퍼파라미터\n",
        "input_shape = (251, 39, 1)\n",
        "max_epoch = 150\n",
        "batch_size = 128"
      ],
      "metadata": {
        "id": "SjS-uEaRsyjM"
      },
      "execution_count": null,
      "outputs": []
    },
    {
      "cell_type": "code",
      "source": [
        "model = Sequential()\n",
        "\n",
        "# 1\n",
        "model.add(Conv2D(filters=64,kernel_size=(2,2),input_shape=input_shape))\n",
        "model.add(BatchNormalization())\n",
        "model.add(Activation('relu'))\n",
        "\n",
        "model.add(Dropout(0.3))\n",
        "model.add(MaxPooling2D(pool_size=(2,2)))\n",
        "\n",
        "model.add(Conv2D(filters=32,kernel_size=(2,2)))\n",
        "model.add(BatchNormalization())\n",
        "model.add(Activation('relu'))\n",
        "\n",
        "model.add(Flatten())\n",
        "model.add(Dropout(0.3))\n",
        "\n",
        "model.add(Dense(16,activation='relu'))\n",
        "model.add(Dense(8,activation='relu'))\n",
        "model.add(Dense(1,activation='sigmoid'))\n",
        "\n",
        "model.summary()"
      ],
      "metadata": {
        "colab": {
          "base_uri": "https://localhost:8080/"
        },
        "id": "xJQS_LtTJU29",
        "outputId": "6a1ad865-2fb7-4370-b715-3e1b27c139dc"
      },
      "execution_count": null,
      "outputs": [
        {
          "output_type": "stream",
          "name": "stdout",
          "text": [
            "Model: \"sequential\"\n",
            "_________________________________________________________________\n",
            " Layer (type)                Output Shape              Param #   \n",
            "=================================================================\n",
            " conv2d (Conv2D)             (None, 250, 38, 64)       320       \n",
            "                                                                 \n",
            " batch_normalization (BatchN  (None, 250, 38, 64)      256       \n",
            " ormalization)                                                   \n",
            "                                                                 \n",
            " activation (Activation)     (None, 250, 38, 64)       0         \n",
            "                                                                 \n",
            " dropout (Dropout)           (None, 250, 38, 64)       0         \n",
            "                                                                 \n",
            " max_pooling2d (MaxPooling2D  (None, 125, 19, 64)      0         \n",
            " )                                                               \n",
            "                                                                 \n",
            " conv2d_1 (Conv2D)           (None, 124, 18, 32)       8224      \n",
            "                                                                 \n",
            " batch_normalization_1 (Batc  (None, 124, 18, 32)      128       \n",
            " hNormalization)                                                 \n",
            "                                                                 \n",
            " activation_1 (Activation)   (None, 124, 18, 32)       0         \n",
            "                                                                 \n",
            " flatten (Flatten)           (None, 71424)             0         \n",
            "                                                                 \n",
            " dropout_1 (Dropout)         (None, 71424)             0         \n",
            "                                                                 \n",
            " dense (Dense)               (None, 16)                1142800   \n",
            "                                                                 \n",
            " dense_1 (Dense)             (None, 8)                 136       \n",
            "                                                                 \n",
            " dense_2 (Dense)             (None, 1)                 9         \n",
            "                                                                 \n",
            "=================================================================\n",
            "Total params: 1,151,873\n",
            "Trainable params: 1,151,681\n",
            "Non-trainable params: 192\n",
            "_________________________________________________________________\n"
          ]
        }
      ]
    },
    {
      "cell_type": "code",
      "source": [
        "model.compile(loss='binary_crossentropy', optimizer='adam', metrics=['accuracy'])"
      ],
      "metadata": {
        "id": "5viadF2lLVtH"
      },
      "execution_count": null,
      "outputs": []
    },
    {
      "cell_type": "code",
      "source": [
        "kfold = StratifiedKFold(n_splits=5, shuffle=True, random_state=1209)\n",
        "\n",
        "for train_idx, val_idx in kfold.split(train_x, train_y):\n",
        "    model.fit(train_x[train_idx], train_y[train_idx], \n",
        "              epochs=max_epoch, batch_size=batch_size, verbose=1)\n",
        "    \n",
        "\n",
        "    scores = model.evaluate(train_x[val_idx], train_y[val_idx], verbose=1)\n",
        "    print(\"%s: %.2f%%\" % (model.metrics_names[1], scores[1]*100))"
      ],
      "metadata": {
        "id": "4YSCixX9p4Er"
      },
      "execution_count": null,
      "outputs": []
    },
    {
      "cell_type": "code",
      "source": [
        "# Train\n",
        "model.fit(train_x, train_y, epochs=max_epoch, \n",
        "          batch_size=batch_size, verbose=1)"
      ],
      "metadata": {
        "id": "vrnXKdA1hkOn"
      },
      "execution_count": null,
      "outputs": []
    },
    {
      "cell_type": "code",
      "source": [
        "predict_x = model.predict(test_x)\n",
        "preds = (predict_x > 0.25).astype(\"int32\") # Threshold ==> 0.25"
      ],
      "metadata": {
        "colab": {
          "base_uri": "https://localhost:8080/"
        },
        "id": "-Wu7QO2xv4jZ",
        "outputId": "9173b6b7-2b3b-47f2-b5ec-fe64f285e736"
      },
      "execution_count": null,
      "outputs": [
        {
          "output_type": "stream",
          "name": "stdout",
          "text": [
            "728\n"
          ]
        }
      ]
    },
    {
      "cell_type": "code",
      "source": [
        "submission = pd.read_csv('/content/drive/MyDrive/dacon_covid/sample_submission.csv')\n",
        "submission['covid19'] = preds\n",
        "submission.to_csv('/content/drive/MyDrive/dacon_covid/submit(augmentation,cnn,0.25).csv', index=False)"
      ],
      "metadata": {
        "id": "_5dutJnhs6pI"
      },
      "execution_count": null,
      "outputs": []
    }
  ]
}